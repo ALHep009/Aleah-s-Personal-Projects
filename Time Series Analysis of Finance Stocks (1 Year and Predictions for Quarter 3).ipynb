{
 "cells": [
  {
   "cell_type": "markdown",
   "metadata": {},
   "source": [
    "# Time Series Analysis with Pandas and Financial Analysis"
   ]
  },
  {
   "cell_type": "code",
   "execution_count": 76,
   "metadata": {},
   "outputs": [],
   "source": [
    "import pandas as pd\n",
    "import numpy as np\n",
    "import matplotlib.pyplot as plt\n",
    "import seaborn as sns"
   ]
  },
  {
   "cell_type": "code",
   "execution_count": 77,
   "metadata": {},
   "outputs": [
    {
     "data": {
      "text/html": [
       "<div>\n",
       "<style scoped>\n",
       "    .dataframe tbody tr th:only-of-type {\n",
       "        vertical-align: middle;\n",
       "    }\n",
       "\n",
       "    .dataframe tbody tr th {\n",
       "        vertical-align: top;\n",
       "    }\n",
       "\n",
       "    .dataframe thead th {\n",
       "        text-align: right;\n",
       "    }\n",
       "</style>\n",
       "<table border=\"1\" class=\"dataframe\">\n",
       "  <thead>\n",
       "    <tr style=\"text-align: right;\">\n",
       "      <th></th>\n",
       "      <th>Date</th>\n",
       "      <th>Open</th>\n",
       "      <th>High</th>\n",
       "      <th>Low</th>\n",
       "      <th>Close</th>\n",
       "      <th>Adj Close</th>\n",
       "      <th>Volume</th>\n",
       "    </tr>\n",
       "  </thead>\n",
       "  <tbody>\n",
       "    <tr>\n",
       "      <th>0</th>\n",
       "      <td>2019-06-10</td>\n",
       "      <td>27.860001</td>\n",
       "      <td>28.469999</td>\n",
       "      <td>27.840000</td>\n",
       "      <td>28.070000</td>\n",
       "      <td>27.368071</td>\n",
       "      <td>48305800</td>\n",
       "    </tr>\n",
       "    <tr>\n",
       "      <th>1</th>\n",
       "      <td>2019-06-11</td>\n",
       "      <td>28.379999</td>\n",
       "      <td>28.700001</td>\n",
       "      <td>28.139999</td>\n",
       "      <td>28.240000</td>\n",
       "      <td>27.533819</td>\n",
       "      <td>38691800</td>\n",
       "    </tr>\n",
       "    <tr>\n",
       "      <th>2</th>\n",
       "      <td>2019-06-12</td>\n",
       "      <td>28.200001</td>\n",
       "      <td>28.270000</td>\n",
       "      <td>27.860001</td>\n",
       "      <td>27.950001</td>\n",
       "      <td>27.251074</td>\n",
       "      <td>33507500</td>\n",
       "    </tr>\n",
       "    <tr>\n",
       "      <th>3</th>\n",
       "      <td>2019-06-13</td>\n",
       "      <td>27.969999</td>\n",
       "      <td>28.160000</td>\n",
       "      <td>27.809999</td>\n",
       "      <td>27.940001</td>\n",
       "      <td>27.241325</td>\n",
       "      <td>33404200</td>\n",
       "    </tr>\n",
       "    <tr>\n",
       "      <th>4</th>\n",
       "      <td>2019-06-14</td>\n",
       "      <td>27.910000</td>\n",
       "      <td>28.170000</td>\n",
       "      <td>27.780001</td>\n",
       "      <td>28.040001</td>\n",
       "      <td>27.338821</td>\n",
       "      <td>37322100</td>\n",
       "    </tr>\n",
       "    <tr>\n",
       "      <th>5</th>\n",
       "      <td>2019-06-17</td>\n",
       "      <td>28.010000</td>\n",
       "      <td>28.219999</td>\n",
       "      <td>27.790001</td>\n",
       "      <td>27.930000</td>\n",
       "      <td>27.231573</td>\n",
       "      <td>33410100</td>\n",
       "    </tr>\n",
       "    <tr>\n",
       "      <th>6</th>\n",
       "      <td>2019-06-18</td>\n",
       "      <td>28.020000</td>\n",
       "      <td>28.799999</td>\n",
       "      <td>27.830000</td>\n",
       "      <td>28.620001</td>\n",
       "      <td>27.904320</td>\n",
       "      <td>60170700</td>\n",
       "    </tr>\n",
       "    <tr>\n",
       "      <th>7</th>\n",
       "      <td>2019-06-19</td>\n",
       "      <td>28.700001</td>\n",
       "      <td>28.969999</td>\n",
       "      <td>28.299999</td>\n",
       "      <td>28.320000</td>\n",
       "      <td>27.611818</td>\n",
       "      <td>61953500</td>\n",
       "    </tr>\n",
       "    <tr>\n",
       "      <th>8</th>\n",
       "      <td>2019-06-20</td>\n",
       "      <td>28.590000</td>\n",
       "      <td>28.610001</td>\n",
       "      <td>27.850000</td>\n",
       "      <td>28.270000</td>\n",
       "      <td>27.563072</td>\n",
       "      <td>60887200</td>\n",
       "    </tr>\n",
       "    <tr>\n",
       "      <th>9</th>\n",
       "      <td>2019-06-21</td>\n",
       "      <td>28.190001</td>\n",
       "      <td>28.549999</td>\n",
       "      <td>28.080000</td>\n",
       "      <td>28.120001</td>\n",
       "      <td>27.416824</td>\n",
       "      <td>69444000</td>\n",
       "    </tr>\n",
       "  </tbody>\n",
       "</table>\n",
       "</div>"
      ],
      "text/plain": [
       "         Date       Open       High        Low      Close  Adj Close    Volume\n",
       "0  2019-06-10  27.860001  28.469999  27.840000  28.070000  27.368071  48305800\n",
       "1  2019-06-11  28.379999  28.700001  28.139999  28.240000  27.533819  38691800\n",
       "2  2019-06-12  28.200001  28.270000  27.860001  27.950001  27.251074  33507500\n",
       "3  2019-06-13  27.969999  28.160000  27.809999  27.940001  27.241325  33404200\n",
       "4  2019-06-14  27.910000  28.170000  27.780001  28.040001  27.338821  37322100\n",
       "5  2019-06-17  28.010000  28.219999  27.790001  27.930000  27.231573  33410100\n",
       "6  2019-06-18  28.020000  28.799999  27.830000  28.620001  27.904320  60170700\n",
       "7  2019-06-19  28.700001  28.969999  28.299999  28.320000  27.611818  61953500\n",
       "8  2019-06-20  28.590000  28.610001  27.850000  28.270000  27.563072  60887200\n",
       "9  2019-06-21  28.190001  28.549999  28.080000  28.120001  27.416824  69444000"
      ]
     },
     "execution_count": 77,
     "metadata": {},
     "output_type": "execute_result"
    }
   ],
   "source": [
    "bac = pd.read_csv('/Users/Aleah/Downloads/BAC.csv', parse_dates = True) #Bank of America\n",
    "bac.head(10)"
   ]
  },
  {
   "cell_type": "code",
   "execution_count": 78,
   "metadata": {},
   "outputs": [
    {
     "name": "stdout",
     "output_type": "stream",
     "text": [
      "(251, 7)\n"
     ]
    },
    {
     "data": {
      "text/plain": [
       "Date          object\n",
       "Open         float64\n",
       "High         float64\n",
       "Low          float64\n",
       "Close        float64\n",
       "Adj Close    float64\n",
       "Volume         int64\n",
       "dtype: object"
      ]
     },
     "execution_count": 78,
     "metadata": {},
     "output_type": "execute_result"
    }
   ],
   "source": [
    "print(bac.shape)\n",
    "bac.dtypes"
   ]
  },
  {
   "cell_type": "code",
   "execution_count": 79,
   "metadata": {},
   "outputs": [
    {
     "data": {
      "text/html": [
       "<div>\n",
       "<style scoped>\n",
       "    .dataframe tbody tr th:only-of-type {\n",
       "        vertical-align: middle;\n",
       "    }\n",
       "\n",
       "    .dataframe tbody tr th {\n",
       "        vertical-align: top;\n",
       "    }\n",
       "\n",
       "    .dataframe thead th {\n",
       "        text-align: right;\n",
       "    }\n",
       "</style>\n",
       "<table border=\"1\" class=\"dataframe\">\n",
       "  <thead>\n",
       "    <tr style=\"text-align: right;\">\n",
       "      <th></th>\n",
       "      <th>Date</th>\n",
       "      <th>Open</th>\n",
       "      <th>High</th>\n",
       "      <th>Low</th>\n",
       "      <th>Close</th>\n",
       "      <th>Adj Close</th>\n",
       "      <th>Volume</th>\n",
       "    </tr>\n",
       "  </thead>\n",
       "  <tbody>\n",
       "    <tr>\n",
       "      <th>0</th>\n",
       "      <td>2019-06-10</td>\n",
       "      <td>13.80</td>\n",
       "      <td>14.23</td>\n",
       "      <td>13.80</td>\n",
       "      <td>13.89</td>\n",
       "      <td>13.650007</td>\n",
       "      <td>271000</td>\n",
       "    </tr>\n",
       "    <tr>\n",
       "      <th>1</th>\n",
       "      <td>2019-06-11</td>\n",
       "      <td>13.99</td>\n",
       "      <td>14.14</td>\n",
       "      <td>13.85</td>\n",
       "      <td>13.90</td>\n",
       "      <td>13.659833</td>\n",
       "      <td>231000</td>\n",
       "    </tr>\n",
       "    <tr>\n",
       "      <th>2</th>\n",
       "      <td>2019-06-12</td>\n",
       "      <td>13.85</td>\n",
       "      <td>13.99</td>\n",
       "      <td>13.67</td>\n",
       "      <td>13.75</td>\n",
       "      <td>13.512425</td>\n",
       "      <td>185000</td>\n",
       "    </tr>\n",
       "    <tr>\n",
       "      <th>3</th>\n",
       "      <td>2019-06-13</td>\n",
       "      <td>13.87</td>\n",
       "      <td>14.06</td>\n",
       "      <td>13.80</td>\n",
       "      <td>13.95</td>\n",
       "      <td>13.708969</td>\n",
       "      <td>178000</td>\n",
       "    </tr>\n",
       "    <tr>\n",
       "      <th>4</th>\n",
       "      <td>2019-06-14</td>\n",
       "      <td>13.95</td>\n",
       "      <td>13.96</td>\n",
       "      <td>13.67</td>\n",
       "      <td>13.88</td>\n",
       "      <td>13.699100</td>\n",
       "      <td>255500</td>\n",
       "    </tr>\n",
       "    <tr>\n",
       "      <th>5</th>\n",
       "      <td>2019-06-17</td>\n",
       "      <td>13.91</td>\n",
       "      <td>14.12</td>\n",
       "      <td>13.76</td>\n",
       "      <td>13.78</td>\n",
       "      <td>13.600402</td>\n",
       "      <td>273900</td>\n",
       "    </tr>\n",
       "    <tr>\n",
       "      <th>6</th>\n",
       "      <td>2019-06-18</td>\n",
       "      <td>13.83</td>\n",
       "      <td>14.22</td>\n",
       "      <td>13.74</td>\n",
       "      <td>14.19</td>\n",
       "      <td>14.005059</td>\n",
       "      <td>301900</td>\n",
       "    </tr>\n",
       "    <tr>\n",
       "      <th>7</th>\n",
       "      <td>2019-06-19</td>\n",
       "      <td>14.20</td>\n",
       "      <td>14.42</td>\n",
       "      <td>14.01</td>\n",
       "      <td>14.02</td>\n",
       "      <td>13.837276</td>\n",
       "      <td>251100</td>\n",
       "    </tr>\n",
       "    <tr>\n",
       "      <th>8</th>\n",
       "      <td>2019-06-20</td>\n",
       "      <td>14.05</td>\n",
       "      <td>14.06</td>\n",
       "      <td>13.50</td>\n",
       "      <td>13.86</td>\n",
       "      <td>13.679359</td>\n",
       "      <td>374200</td>\n",
       "    </tr>\n",
       "    <tr>\n",
       "      <th>9</th>\n",
       "      <td>2019-06-21</td>\n",
       "      <td>13.80</td>\n",
       "      <td>13.91</td>\n",
       "      <td>13.62</td>\n",
       "      <td>13.67</td>\n",
       "      <td>13.491838</td>\n",
       "      <td>458500</td>\n",
       "    </tr>\n",
       "  </tbody>\n",
       "</table>\n",
       "</div>"
      ],
      "text/plain": [
       "         Date   Open   High    Low  Close  Adj Close  Volume\n",
       "0  2019-06-10  13.80  14.23  13.80  13.89  13.650007  271000\n",
       "1  2019-06-11  13.99  14.14  13.85  13.90  13.659833  231000\n",
       "2  2019-06-12  13.85  13.99  13.67  13.75  13.512425  185000\n",
       "3  2019-06-13  13.87  14.06  13.80  13.95  13.708969  178000\n",
       "4  2019-06-14  13.95  13.96  13.67  13.88  13.699100  255500\n",
       "5  2019-06-17  13.91  14.12  13.76  13.78  13.600402  273900\n",
       "6  2019-06-18  13.83  14.22  13.74  14.19  14.005059  301900\n",
       "7  2019-06-19  14.20  14.42  14.01  14.02  13.837276  251100\n",
       "8  2019-06-20  14.05  14.06  13.50  13.86  13.679359  374200\n",
       "9  2019-06-21  13.80  13.91  13.62  13.67  13.491838  458500"
      ]
     },
     "execution_count": 79,
     "metadata": {},
     "output_type": "execute_result"
    }
   ],
   "source": [
    "banc = pd.read_csv('/Users/Aleah/Downloads/BANC.csv', parse_dates=True) # Banc of California\n",
    "banc.head(10)"
   ]
  },
  {
   "cell_type": "code",
   "execution_count": 80,
   "metadata": {},
   "outputs": [
    {
     "name": "stdout",
     "output_type": "stream",
     "text": [
      "(251, 7)\n",
      "Date          object\n",
      "Open         float64\n",
      "High         float64\n",
      "Low          float64\n",
      "Close        float64\n",
      "Adj Close    float64\n",
      "Volume         int64\n",
      "dtype: object\n"
     ]
    }
   ],
   "source": [
    "print(banc.shape)\n",
    "print(banc.dtypes)"
   ]
  },
  {
   "cell_type": "code",
   "execution_count": 81,
   "metadata": {},
   "outputs": [
    {
     "data": {
      "text/html": [
       "<div>\n",
       "<style scoped>\n",
       "    .dataframe tbody tr th:only-of-type {\n",
       "        vertical-align: middle;\n",
       "    }\n",
       "\n",
       "    .dataframe tbody tr th {\n",
       "        vertical-align: top;\n",
       "    }\n",
       "\n",
       "    .dataframe thead th {\n",
       "        text-align: right;\n",
       "    }\n",
       "</style>\n",
       "<table border=\"1\" class=\"dataframe\">\n",
       "  <thead>\n",
       "    <tr style=\"text-align: right;\">\n",
       "      <th></th>\n",
       "      <th>Date</th>\n",
       "      <th>Open</th>\n",
       "      <th>High</th>\n",
       "      <th>Low</th>\n",
       "      <th>Close</th>\n",
       "      <th>Adj Close</th>\n",
       "      <th>Volume</th>\n",
       "    </tr>\n",
       "  </thead>\n",
       "  <tbody>\n",
       "    <tr>\n",
       "      <th>0</th>\n",
       "      <td>2019-06-10</td>\n",
       "      <td>27.860001</td>\n",
       "      <td>28.469999</td>\n",
       "      <td>27.840000</td>\n",
       "      <td>28.070000</td>\n",
       "      <td>27.368071</td>\n",
       "      <td>48305800</td>\n",
       "    </tr>\n",
       "    <tr>\n",
       "      <th>1</th>\n",
       "      <td>2019-06-11</td>\n",
       "      <td>28.379999</td>\n",
       "      <td>28.700001</td>\n",
       "      <td>28.139999</td>\n",
       "      <td>28.240000</td>\n",
       "      <td>27.533819</td>\n",
       "      <td>38691800</td>\n",
       "    </tr>\n",
       "    <tr>\n",
       "      <th>2</th>\n",
       "      <td>2019-06-12</td>\n",
       "      <td>28.200001</td>\n",
       "      <td>28.270000</td>\n",
       "      <td>27.860001</td>\n",
       "      <td>27.950001</td>\n",
       "      <td>27.251074</td>\n",
       "      <td>33507500</td>\n",
       "    </tr>\n",
       "    <tr>\n",
       "      <th>3</th>\n",
       "      <td>2019-06-13</td>\n",
       "      <td>27.969999</td>\n",
       "      <td>28.160000</td>\n",
       "      <td>27.809999</td>\n",
       "      <td>27.940001</td>\n",
       "      <td>27.241325</td>\n",
       "      <td>33404200</td>\n",
       "    </tr>\n",
       "    <tr>\n",
       "      <th>4</th>\n",
       "      <td>2019-06-14</td>\n",
       "      <td>27.910000</td>\n",
       "      <td>28.170000</td>\n",
       "      <td>27.780001</td>\n",
       "      <td>28.040001</td>\n",
       "      <td>27.338821</td>\n",
       "      <td>37322100</td>\n",
       "    </tr>\n",
       "    <tr>\n",
       "      <th>5</th>\n",
       "      <td>2019-06-17</td>\n",
       "      <td>28.010000</td>\n",
       "      <td>28.219999</td>\n",
       "      <td>27.790001</td>\n",
       "      <td>27.930000</td>\n",
       "      <td>27.231573</td>\n",
       "      <td>33410100</td>\n",
       "    </tr>\n",
       "    <tr>\n",
       "      <th>6</th>\n",
       "      <td>2019-06-18</td>\n",
       "      <td>28.020000</td>\n",
       "      <td>28.799999</td>\n",
       "      <td>27.830000</td>\n",
       "      <td>28.620001</td>\n",
       "      <td>27.904320</td>\n",
       "      <td>60170700</td>\n",
       "    </tr>\n",
       "    <tr>\n",
       "      <th>7</th>\n",
       "      <td>2019-06-19</td>\n",
       "      <td>28.700001</td>\n",
       "      <td>28.969999</td>\n",
       "      <td>28.299999</td>\n",
       "      <td>28.320000</td>\n",
       "      <td>27.611818</td>\n",
       "      <td>61953500</td>\n",
       "    </tr>\n",
       "    <tr>\n",
       "      <th>8</th>\n",
       "      <td>2019-06-20</td>\n",
       "      <td>28.590000</td>\n",
       "      <td>28.610001</td>\n",
       "      <td>27.850000</td>\n",
       "      <td>28.270000</td>\n",
       "      <td>27.563072</td>\n",
       "      <td>60887200</td>\n",
       "    </tr>\n",
       "    <tr>\n",
       "      <th>9</th>\n",
       "      <td>2019-06-21</td>\n",
       "      <td>28.190001</td>\n",
       "      <td>28.549999</td>\n",
       "      <td>28.080000</td>\n",
       "      <td>28.120001</td>\n",
       "      <td>27.416824</td>\n",
       "      <td>69444000</td>\n",
       "    </tr>\n",
       "  </tbody>\n",
       "</table>\n",
       "</div>"
      ],
      "text/plain": [
       "         Date       Open       High        Low      Close  Adj Close    Volume\n",
       "0  2019-06-10  27.860001  28.469999  27.840000  28.070000  27.368071  48305800\n",
       "1  2019-06-11  28.379999  28.700001  28.139999  28.240000  27.533819  38691800\n",
       "2  2019-06-12  28.200001  28.270000  27.860001  27.950001  27.251074  33507500\n",
       "3  2019-06-13  27.969999  28.160000  27.809999  27.940001  27.241325  33404200\n",
       "4  2019-06-14  27.910000  28.170000  27.780001  28.040001  27.338821  37322100\n",
       "5  2019-06-17  28.010000  28.219999  27.790001  27.930000  27.231573  33410100\n",
       "6  2019-06-18  28.020000  28.799999  27.830000  28.620001  27.904320  60170700\n",
       "7  2019-06-19  28.700001  28.969999  28.299999  28.320000  27.611818  61953500\n",
       "8  2019-06-20  28.590000  28.610001  27.850000  28.270000  27.563072  60887200\n",
       "9  2019-06-21  28.190001  28.549999  28.080000  28.120001  27.416824  69444000"
      ]
     },
     "execution_count": 81,
     "metadata": {},
     "output_type": "execute_result"
    }
   ],
   "source": [
    "wfc = pd.read_csv('/Users/Aleah/Downloads/WFC.csv', parse_dates=True) # Wells Fargo\n",
    "bac.head(10)"
   ]
  },
  {
   "cell_type": "code",
   "execution_count": 82,
   "metadata": {},
   "outputs": [
    {
     "name": "stdout",
     "output_type": "stream",
     "text": [
      "(251, 7)\n",
      "Date          object\n",
      "Open         float64\n",
      "High         float64\n",
      "Low          float64\n",
      "Close        float64\n",
      "Adj Close    float64\n",
      "Volume         int64\n",
      "dtype: object\n"
     ]
    }
   ],
   "source": [
    "print(wfc.shape)\n",
    "print(wfc.dtypes)"
   ]
  },
  {
   "cell_type": "code",
   "execution_count": 83,
   "metadata": {},
   "outputs": [
    {
     "data": {
      "text/html": [
       "<div>\n",
       "<style scoped>\n",
       "    .dataframe tbody tr th:only-of-type {\n",
       "        vertical-align: middle;\n",
       "    }\n",
       "\n",
       "    .dataframe tbody tr th {\n",
       "        vertical-align: top;\n",
       "    }\n",
       "\n",
       "    .dataframe thead th {\n",
       "        text-align: right;\n",
       "    }\n",
       "</style>\n",
       "<table border=\"1\" class=\"dataframe\">\n",
       "  <thead>\n",
       "    <tr style=\"text-align: right;\">\n",
       "      <th></th>\n",
       "      <th>Date</th>\n",
       "      <th>Open</th>\n",
       "      <th>High</th>\n",
       "      <th>Low</th>\n",
       "      <th>Close</th>\n",
       "      <th>Adj Close</th>\n",
       "      <th>Volume</th>\n",
       "    </tr>\n",
       "  </thead>\n",
       "  <tbody>\n",
       "    <tr>\n",
       "      <th>0</th>\n",
       "      <td>2019-06-10</td>\n",
       "      <td>27.860001</td>\n",
       "      <td>28.469999</td>\n",
       "      <td>27.840000</td>\n",
       "      <td>28.070000</td>\n",
       "      <td>27.368071</td>\n",
       "      <td>48305800</td>\n",
       "    </tr>\n",
       "    <tr>\n",
       "      <th>1</th>\n",
       "      <td>2019-06-11</td>\n",
       "      <td>28.379999</td>\n",
       "      <td>28.700001</td>\n",
       "      <td>28.139999</td>\n",
       "      <td>28.240000</td>\n",
       "      <td>27.533819</td>\n",
       "      <td>38691800</td>\n",
       "    </tr>\n",
       "    <tr>\n",
       "      <th>2</th>\n",
       "      <td>2019-06-12</td>\n",
       "      <td>28.200001</td>\n",
       "      <td>28.270000</td>\n",
       "      <td>27.860001</td>\n",
       "      <td>27.950001</td>\n",
       "      <td>27.251074</td>\n",
       "      <td>33507500</td>\n",
       "    </tr>\n",
       "    <tr>\n",
       "      <th>3</th>\n",
       "      <td>2019-06-13</td>\n",
       "      <td>27.969999</td>\n",
       "      <td>28.160000</td>\n",
       "      <td>27.809999</td>\n",
       "      <td>27.940001</td>\n",
       "      <td>27.241325</td>\n",
       "      <td>33404200</td>\n",
       "    </tr>\n",
       "    <tr>\n",
       "      <th>4</th>\n",
       "      <td>2019-06-14</td>\n",
       "      <td>27.910000</td>\n",
       "      <td>28.170000</td>\n",
       "      <td>27.780001</td>\n",
       "      <td>28.040001</td>\n",
       "      <td>27.338821</td>\n",
       "      <td>37322100</td>\n",
       "    </tr>\n",
       "    <tr>\n",
       "      <th>5</th>\n",
       "      <td>2019-06-17</td>\n",
       "      <td>28.010000</td>\n",
       "      <td>28.219999</td>\n",
       "      <td>27.790001</td>\n",
       "      <td>27.930000</td>\n",
       "      <td>27.231573</td>\n",
       "      <td>33410100</td>\n",
       "    </tr>\n",
       "    <tr>\n",
       "      <th>6</th>\n",
       "      <td>2019-06-18</td>\n",
       "      <td>28.020000</td>\n",
       "      <td>28.799999</td>\n",
       "      <td>27.830000</td>\n",
       "      <td>28.620001</td>\n",
       "      <td>27.904320</td>\n",
       "      <td>60170700</td>\n",
       "    </tr>\n",
       "    <tr>\n",
       "      <th>7</th>\n",
       "      <td>2019-06-19</td>\n",
       "      <td>28.700001</td>\n",
       "      <td>28.969999</td>\n",
       "      <td>28.299999</td>\n",
       "      <td>28.320000</td>\n",
       "      <td>27.611818</td>\n",
       "      <td>61953500</td>\n",
       "    </tr>\n",
       "    <tr>\n",
       "      <th>8</th>\n",
       "      <td>2019-06-20</td>\n",
       "      <td>28.590000</td>\n",
       "      <td>28.610001</td>\n",
       "      <td>27.850000</td>\n",
       "      <td>28.270000</td>\n",
       "      <td>27.563072</td>\n",
       "      <td>60887200</td>\n",
       "    </tr>\n",
       "    <tr>\n",
       "      <th>9</th>\n",
       "      <td>2019-06-21</td>\n",
       "      <td>28.190001</td>\n",
       "      <td>28.549999</td>\n",
       "      <td>28.080000</td>\n",
       "      <td>28.120001</td>\n",
       "      <td>27.416824</td>\n",
       "      <td>69444000</td>\n",
       "    </tr>\n",
       "  </tbody>\n",
       "</table>\n",
       "</div>"
      ],
      "text/plain": [
       "         Date       Open       High        Low      Close  Adj Close    Volume\n",
       "0  2019-06-10  27.860001  28.469999  27.840000  28.070000  27.368071  48305800\n",
       "1  2019-06-11  28.379999  28.700001  28.139999  28.240000  27.533819  38691800\n",
       "2  2019-06-12  28.200001  28.270000  27.860001  27.950001  27.251074  33507500\n",
       "3  2019-06-13  27.969999  28.160000  27.809999  27.940001  27.241325  33404200\n",
       "4  2019-06-14  27.910000  28.170000  27.780001  28.040001  27.338821  37322100\n",
       "5  2019-06-17  28.010000  28.219999  27.790001  27.930000  27.231573  33410100\n",
       "6  2019-06-18  28.020000  28.799999  27.830000  28.620001  27.904320  60170700\n",
       "7  2019-06-19  28.700001  28.969999  28.299999  28.320000  27.611818  61953500\n",
       "8  2019-06-20  28.590000  28.610001  27.850000  28.270000  27.563072  60887200\n",
       "9  2019-06-21  28.190001  28.549999  28.080000  28.120001  27.416824  69444000"
      ]
     },
     "execution_count": 83,
     "metadata": {},
     "output_type": "execute_result"
    }
   ],
   "source": [
    "sbux = pd.read_csv('/Users/Aleah/Downloads/SBUX.csv', parse_dates=True) # Starbucks\n",
    "bac.head(10)"
   ]
  },
  {
   "cell_type": "code",
   "execution_count": 84,
   "metadata": {},
   "outputs": [
    {
     "name": "stdout",
     "output_type": "stream",
     "text": [
      "(251, 7)\n",
      "Date          object\n",
      "Open         float64\n",
      "High         float64\n",
      "Low          float64\n",
      "Close        float64\n",
      "Adj Close    float64\n",
      "Volume         int64\n",
      "dtype: object\n"
     ]
    }
   ],
   "source": [
    "print(sbux.shape)\n",
    "print(sbux.dtypes)"
   ]
  },
  {
   "cell_type": "code",
   "execution_count": 85,
   "metadata": {},
   "outputs": [
    {
     "data": {
      "text/html": [
       "<div>\n",
       "<style scoped>\n",
       "    .dataframe tbody tr th:only-of-type {\n",
       "        vertical-align: middle;\n",
       "    }\n",
       "\n",
       "    .dataframe tbody tr th {\n",
       "        vertical-align: top;\n",
       "    }\n",
       "\n",
       "    .dataframe thead th {\n",
       "        text-align: right;\n",
       "    }\n",
       "</style>\n",
       "<table border=\"1\" class=\"dataframe\">\n",
       "  <thead>\n",
       "    <tr style=\"text-align: right;\">\n",
       "      <th></th>\n",
       "      <th>Date</th>\n",
       "      <th>Open</th>\n",
       "      <th>High</th>\n",
       "      <th>Low</th>\n",
       "      <th>Close</th>\n",
       "      <th>Adj Close</th>\n",
       "      <th>Volume</th>\n",
       "    </tr>\n",
       "  </thead>\n",
       "  <tbody>\n",
       "    <tr>\n",
       "      <th>0</th>\n",
       "      <td>2019-06-10</td>\n",
       "      <td>27.860001</td>\n",
       "      <td>28.469999</td>\n",
       "      <td>27.840000</td>\n",
       "      <td>28.070000</td>\n",
       "      <td>27.368071</td>\n",
       "      <td>48305800</td>\n",
       "    </tr>\n",
       "    <tr>\n",
       "      <th>1</th>\n",
       "      <td>2019-06-11</td>\n",
       "      <td>28.379999</td>\n",
       "      <td>28.700001</td>\n",
       "      <td>28.139999</td>\n",
       "      <td>28.240000</td>\n",
       "      <td>27.533819</td>\n",
       "      <td>38691800</td>\n",
       "    </tr>\n",
       "    <tr>\n",
       "      <th>2</th>\n",
       "      <td>2019-06-12</td>\n",
       "      <td>28.200001</td>\n",
       "      <td>28.270000</td>\n",
       "      <td>27.860001</td>\n",
       "      <td>27.950001</td>\n",
       "      <td>27.251074</td>\n",
       "      <td>33507500</td>\n",
       "    </tr>\n",
       "    <tr>\n",
       "      <th>3</th>\n",
       "      <td>2019-06-13</td>\n",
       "      <td>27.969999</td>\n",
       "      <td>28.160000</td>\n",
       "      <td>27.809999</td>\n",
       "      <td>27.940001</td>\n",
       "      <td>27.241325</td>\n",
       "      <td>33404200</td>\n",
       "    </tr>\n",
       "    <tr>\n",
       "      <th>4</th>\n",
       "      <td>2019-06-14</td>\n",
       "      <td>27.910000</td>\n",
       "      <td>28.170000</td>\n",
       "      <td>27.780001</td>\n",
       "      <td>28.040001</td>\n",
       "      <td>27.338821</td>\n",
       "      <td>37322100</td>\n",
       "    </tr>\n",
       "    <tr>\n",
       "      <th>5</th>\n",
       "      <td>2019-06-17</td>\n",
       "      <td>28.010000</td>\n",
       "      <td>28.219999</td>\n",
       "      <td>27.790001</td>\n",
       "      <td>27.930000</td>\n",
       "      <td>27.231573</td>\n",
       "      <td>33410100</td>\n",
       "    </tr>\n",
       "    <tr>\n",
       "      <th>6</th>\n",
       "      <td>2019-06-18</td>\n",
       "      <td>28.020000</td>\n",
       "      <td>28.799999</td>\n",
       "      <td>27.830000</td>\n",
       "      <td>28.620001</td>\n",
       "      <td>27.904320</td>\n",
       "      <td>60170700</td>\n",
       "    </tr>\n",
       "    <tr>\n",
       "      <th>7</th>\n",
       "      <td>2019-06-19</td>\n",
       "      <td>28.700001</td>\n",
       "      <td>28.969999</td>\n",
       "      <td>28.299999</td>\n",
       "      <td>28.320000</td>\n",
       "      <td>27.611818</td>\n",
       "      <td>61953500</td>\n",
       "    </tr>\n",
       "    <tr>\n",
       "      <th>8</th>\n",
       "      <td>2019-06-20</td>\n",
       "      <td>28.590000</td>\n",
       "      <td>28.610001</td>\n",
       "      <td>27.850000</td>\n",
       "      <td>28.270000</td>\n",
       "      <td>27.563072</td>\n",
       "      <td>60887200</td>\n",
       "    </tr>\n",
       "    <tr>\n",
       "      <th>9</th>\n",
       "      <td>2019-06-21</td>\n",
       "      <td>28.190001</td>\n",
       "      <td>28.549999</td>\n",
       "      <td>28.080000</td>\n",
       "      <td>28.120001</td>\n",
       "      <td>27.416824</td>\n",
       "      <td>69444000</td>\n",
       "    </tr>\n",
       "  </tbody>\n",
       "</table>\n",
       "</div>"
      ],
      "text/plain": [
       "         Date       Open       High        Low      Close  Adj Close    Volume\n",
       "0  2019-06-10  27.860001  28.469999  27.840000  28.070000  27.368071  48305800\n",
       "1  2019-06-11  28.379999  28.700001  28.139999  28.240000  27.533819  38691800\n",
       "2  2019-06-12  28.200001  28.270000  27.860001  27.950001  27.251074  33507500\n",
       "3  2019-06-13  27.969999  28.160000  27.809999  27.940001  27.241325  33404200\n",
       "4  2019-06-14  27.910000  28.170000  27.780001  28.040001  27.338821  37322100\n",
       "5  2019-06-17  28.010000  28.219999  27.790001  27.930000  27.231573  33410100\n",
       "6  2019-06-18  28.020000  28.799999  27.830000  28.620001  27.904320  60170700\n",
       "7  2019-06-19  28.700001  28.969999  28.299999  28.320000  27.611818  61953500\n",
       "8  2019-06-20  28.590000  28.610001  27.850000  28.270000  27.563072  60887200\n",
       "9  2019-06-21  28.190001  28.549999  28.080000  28.120001  27.416824  69444000"
      ]
     },
     "execution_count": 85,
     "metadata": {},
     "output_type": "execute_result"
    }
   ],
   "source": [
    "ms = pd.read_csv('/Users/Aleah/Downloads/MS.csv', parse_dates=True) # Morgan Stanley\n",
    "bac.head(10)"
   ]
  },
  {
   "cell_type": "code",
   "execution_count": 86,
   "metadata": {},
   "outputs": [
    {
     "name": "stdout",
     "output_type": "stream",
     "text": [
      "(251, 7)\n",
      "Date          object\n",
      "Open         float64\n",
      "High         float64\n",
      "Low          float64\n",
      "Close        float64\n",
      "Adj Close    float64\n",
      "Volume         int64\n",
      "dtype: object\n"
     ]
    }
   ],
   "source": [
    "print(ms.shape)\n",
    "print(ms.dtypes)"
   ]
  },
  {
   "cell_type": "markdown",
   "metadata": {},
   "source": [
    "Each row is a *daily measure of stock measurements*. It includes their opening price at 9:30A.M., their close price at 4:00P.M., all time high and low prices for the year and **adjusted close**.\n",
    "\n",
    "The **Adjusted Closing Price** amends a stock's closing price to accurately reflect that stock's value after accounting for any corporate actions. It is the 'raw' price which is *the cash value of the last transacted price before the market closes.*\n",
    "\n",
    "The date column has the datatype as object -- I must convert it to a datetimeobject before proceeding. "
   ]
  },
  {
   "cell_type": "code",
   "execution_count": 87,
   "metadata": {},
   "outputs": [],
   "source": [
    "bac['Date'] = pd.to_datetime(bac['Date'], infer_datetime_format=True)"
   ]
  },
  {
   "cell_type": "code",
   "execution_count": 88,
   "metadata": {},
   "outputs": [
    {
     "data": {
      "text/plain": [
       "Date         datetime64[ns]\n",
       "Open                float64\n",
       "High                float64\n",
       "Low                 float64\n",
       "Close               float64\n",
       "Adj Close           float64\n",
       "Volume                int64\n",
       "dtype: object"
      ]
     },
     "execution_count": 88,
     "metadata": {},
     "output_type": "execute_result"
    }
   ],
   "source": [
    "bac.dtypes"
   ]
  },
  {
   "cell_type": "code",
   "execution_count": 89,
   "metadata": {},
   "outputs": [],
   "source": [
    "banc['Date'] = pd.to_datetime(banc['Date'], infer_datetime_format = True)"
   ]
  },
  {
   "cell_type": "code",
   "execution_count": 90,
   "metadata": {},
   "outputs": [
    {
     "data": {
      "text/plain": [
       "Date         datetime64[ns]\n",
       "Open                float64\n",
       "High                float64\n",
       "Low                 float64\n",
       "Close               float64\n",
       "Adj Close           float64\n",
       "Volume                int64\n",
       "dtype: object"
      ]
     },
     "execution_count": 90,
     "metadata": {},
     "output_type": "execute_result"
    }
   ],
   "source": [
    "banc.dtypes"
   ]
  },
  {
   "cell_type": "code",
   "execution_count": 91,
   "metadata": {},
   "outputs": [],
   "source": [
    "wfc['Date'] = pd.to_datetime(wfc['Date'], infer_datetime_format=True)"
   ]
  },
  {
   "cell_type": "code",
   "execution_count": 92,
   "metadata": {},
   "outputs": [
    {
     "data": {
      "text/plain": [
       "Date         datetime64[ns]\n",
       "Open                float64\n",
       "High                float64\n",
       "Low                 float64\n",
       "Close               float64\n",
       "Adj Close           float64\n",
       "Volume                int64\n",
       "dtype: object"
      ]
     },
     "execution_count": 92,
     "metadata": {},
     "output_type": "execute_result"
    }
   ],
   "source": [
    "wfc.dtypes"
   ]
  },
  {
   "cell_type": "code",
   "execution_count": 93,
   "metadata": {},
   "outputs": [],
   "source": [
    "sbux['Date'] = pd.to_datetime(sbux['Date'], infer_datetime_format=True)"
   ]
  },
  {
   "cell_type": "code",
   "execution_count": 94,
   "metadata": {},
   "outputs": [
    {
     "data": {
      "text/plain": [
       "Date         datetime64[ns]\n",
       "Open                float64\n",
       "High                float64\n",
       "Low                 float64\n",
       "Close               float64\n",
       "Adj Close           float64\n",
       "Volume                int64\n",
       "dtype: object"
      ]
     },
     "execution_count": 94,
     "metadata": {},
     "output_type": "execute_result"
    }
   ],
   "source": [
    "sbux.dtypes"
   ]
  },
  {
   "cell_type": "code",
   "execution_count": 95,
   "metadata": {},
   "outputs": [],
   "source": [
    "ms['Date'] = pd.to_datetime(ms['Date'], infer_datetime_format=True)"
   ]
  },
  {
   "cell_type": "code",
   "execution_count": 96,
   "metadata": {},
   "outputs": [
    {
     "data": {
      "text/plain": [
       "Date         datetime64[ns]\n",
       "Open                float64\n",
       "High                float64\n",
       "Low                 float64\n",
       "Close               float64\n",
       "Adj Close           float64\n",
       "Volume                int64\n",
       "dtype: object"
      ]
     },
     "execution_count": 96,
     "metadata": {},
     "output_type": "execute_result"
    }
   ],
   "source": [
    "ms.dtypes"
   ]
  },
  {
   "cell_type": "markdown",
   "metadata": {},
   "source": [
    "We want to perform Financial Analysis focusing on the last 6 months of information, which means, we need to filter out our data form a certain date with conditions. "
   ]
  },
  {
   "cell_type": "code",
   "execution_count": 113,
   "metadata": {},
   "outputs": [
    {
     "data": {
      "text/plain": [
       "<Figure size 432x288 with 0 Axes>"
      ]
     },
     "metadata": {},
     "output_type": "display_data"
    }
   ],
   "source": [
    "#6 months ago was December 8, 2019 -- time-based indexing. I may have to implement this method later."
   ]
  },
  {
   "cell_type": "code",
   "execution_count": 126,
   "metadata": {},
   "outputs": [
    {
     "data": {
      "text/html": [
       "<div>\n",
       "<style scoped>\n",
       "    .dataframe tbody tr th:only-of-type {\n",
       "        vertical-align: middle;\n",
       "    }\n",
       "\n",
       "    .dataframe tbody tr th {\n",
       "        vertical-align: top;\n",
       "    }\n",
       "\n",
       "    .dataframe thead th {\n",
       "        text-align: right;\n",
       "    }\n",
       "</style>\n",
       "<table border=\"1\" class=\"dataframe\">\n",
       "  <thead>\n",
       "    <tr style=\"text-align: right;\">\n",
       "      <th></th>\n",
       "      <th>Date</th>\n",
       "      <th>Open</th>\n",
       "      <th>High</th>\n",
       "      <th>Low</th>\n",
       "      <th>Close</th>\n",
       "      <th>Adj Close</th>\n",
       "      <th>Volume</th>\n",
       "    </tr>\n",
       "  </thead>\n",
       "  <tbody>\n",
       "    <tr>\n",
       "      <th>127</th>\n",
       "      <td>2019-12-09</td>\n",
       "      <td>33.500000</td>\n",
       "      <td>33.700001</td>\n",
       "      <td>33.439999</td>\n",
       "      <td>33.509998</td>\n",
       "      <td>33.066925</td>\n",
       "      <td>32974500</td>\n",
       "    </tr>\n",
       "    <tr>\n",
       "      <th>128</th>\n",
       "      <td>2019-12-10</td>\n",
       "      <td>33.400002</td>\n",
       "      <td>33.630001</td>\n",
       "      <td>33.299999</td>\n",
       "      <td>33.529999</td>\n",
       "      <td>33.086662</td>\n",
       "      <td>41960100</td>\n",
       "    </tr>\n",
       "    <tr>\n",
       "      <th>129</th>\n",
       "      <td>2019-12-11</td>\n",
       "      <td>33.480000</td>\n",
       "      <td>33.759998</td>\n",
       "      <td>33.480000</td>\n",
       "      <td>33.639999</td>\n",
       "      <td>33.195206</td>\n",
       "      <td>43107800</td>\n",
       "    </tr>\n",
       "    <tr>\n",
       "      <th>130</th>\n",
       "      <td>2019-12-12</td>\n",
       "      <td>33.779999</td>\n",
       "      <td>34.810001</td>\n",
       "      <td>33.680000</td>\n",
       "      <td>34.680000</td>\n",
       "      <td>34.221458</td>\n",
       "      <td>64942500</td>\n",
       "    </tr>\n",
       "    <tr>\n",
       "      <th>131</th>\n",
       "      <td>2019-12-13</td>\n",
       "      <td>34.689999</td>\n",
       "      <td>34.959999</td>\n",
       "      <td>34.349998</td>\n",
       "      <td>34.439999</td>\n",
       "      <td>33.984631</td>\n",
       "      <td>48539600</td>\n",
       "    </tr>\n",
       "    <tr>\n",
       "      <th>132</th>\n",
       "      <td>2019-12-16</td>\n",
       "      <td>34.950001</td>\n",
       "      <td>35.090000</td>\n",
       "      <td>34.700001</td>\n",
       "      <td>34.700001</td>\n",
       "      <td>34.241196</td>\n",
       "      <td>50777100</td>\n",
       "    </tr>\n",
       "    <tr>\n",
       "      <th>133</th>\n",
       "      <td>2019-12-17</td>\n",
       "      <td>34.849998</td>\n",
       "      <td>35.270000</td>\n",
       "      <td>34.740002</td>\n",
       "      <td>35.040001</td>\n",
       "      <td>34.576698</td>\n",
       "      <td>50840500</td>\n",
       "    </tr>\n",
       "  </tbody>\n",
       "</table>\n",
       "</div>"
      ],
      "text/plain": [
       "          Date       Open       High        Low      Close  Adj Close  \\\n",
       "127 2019-12-09  33.500000  33.700001  33.439999  33.509998  33.066925   \n",
       "128 2019-12-10  33.400002  33.630001  33.299999  33.529999  33.086662   \n",
       "129 2019-12-11  33.480000  33.759998  33.480000  33.639999  33.195206   \n",
       "130 2019-12-12  33.779999  34.810001  33.680000  34.680000  34.221458   \n",
       "131 2019-12-13  34.689999  34.959999  34.349998  34.439999  33.984631   \n",
       "132 2019-12-16  34.950001  35.090000  34.700001  34.700001  34.241196   \n",
       "133 2019-12-17  34.849998  35.270000  34.740002  35.040001  34.576698   \n",
       "\n",
       "       Volume  \n",
       "127  32974500  \n",
       "128  41960100  \n",
       "129  43107800  \n",
       "130  64942500  \n",
       "131  48539600  \n",
       "132  50777100  \n",
       "133  50840500  "
      ]
     },
     "execution_count": 126,
     "metadata": {},
     "output_type": "execute_result"
    }
   ],
   "source": [
    "bac_begin = bac['Date'] > '2019-12-08'\n",
    "bac_six_months = bac[bac_begin]\n",
    "\n",
    "bac_six_months.head(7)"
   ]
  },
  {
   "cell_type": "code",
   "execution_count": 125,
   "metadata": {},
   "outputs": [
    {
     "data": {
      "text/plain": [
       "<Figure size 2160x1440 with 0 Axes>"
      ]
     },
     "execution_count": 125,
     "metadata": {},
     "output_type": "execute_result"
    },
    {
     "data": {
      "image/png": "[encoded data removed]",
      "text/plain": [
       "<Figure size 432x288 with 1 Axes>"
      ]
     },
     "metadata": {},
     "output_type": "display_data"
    },
    {
     "data": {
      "text/plain": [
       "<Figure size 2160x1440 with 0 Axes>"
      ]
     },
     "metadata": {},
     "output_type": "display_data"
    }
   ],
   "source": [
    "bac.plot(x='Date', y='Close')\n",
    "plt.figure(figsize=(30,20))"
   ]
  },
  {
   "cell_type": "code",
   "execution_count": 127,
   "metadata": {},
   "outputs": [
    {
     "data": {
      "text/plain": [
       "<matplotlib.axes._subplots.AxesSubplot at 0x1b317368e80>"
      ]
     },
     "execution_count": 127,
     "metadata": {},
     "output_type": "execute_result"
    },
    {
     "data": {
      "image/png": "[encoded data removed]",
      "text/plain": [
       "<Figure size 432x288 with 1 Axes>"
      ]
     },
     "metadata": {},
     "output_type": "display_data"
    }
   ],
   "source": [
    "bac_six_months.plot(x= 'Date', y='Close')"
   ]
  },
  {
   "cell_type": "code",
   "execution_count": 128,
   "metadata": {},
   "outputs": [
    {
     "data": {
      "text/html": [
       "<div>\n",
       "<style scoped>\n",
       "    .dataframe tbody tr th:only-of-type {\n",
       "        vertical-align: middle;\n",
       "    }\n",
       "\n",
       "    .dataframe tbody tr th {\n",
       "        vertical-align: top;\n",
       "    }\n",
       "\n",
       "    .dataframe thead th {\n",
       "        text-align: right;\n",
       "    }\n",
       "</style>\n",
       "<table border=\"1\" class=\"dataframe\">\n",
       "  <thead>\n",
       "    <tr style=\"text-align: right;\">\n",
       "      <th></th>\n",
       "      <th>Date</th>\n",
       "      <th>Open</th>\n",
       "      <th>High</th>\n",
       "      <th>Low</th>\n",
       "      <th>Close</th>\n",
       "      <th>Adj Close</th>\n",
       "      <th>Volume</th>\n",
       "    </tr>\n",
       "  </thead>\n",
       "  <tbody>\n",
       "    <tr>\n",
       "      <th>127</th>\n",
       "      <td>2019-12-09</td>\n",
       "      <td>16.09</td>\n",
       "      <td>16.209999</td>\n",
       "      <td>16.000000</td>\n",
       "      <td>16.120001</td>\n",
       "      <td>15.974669</td>\n",
       "      <td>327300</td>\n",
       "    </tr>\n",
       "    <tr>\n",
       "      <th>128</th>\n",
       "      <td>2019-12-10</td>\n",
       "      <td>16.09</td>\n",
       "      <td>16.180000</td>\n",
       "      <td>15.880000</td>\n",
       "      <td>15.990000</td>\n",
       "      <td>15.845840</td>\n",
       "      <td>298900</td>\n",
       "    </tr>\n",
       "    <tr>\n",
       "      <th>129</th>\n",
       "      <td>2019-12-11</td>\n",
       "      <td>16.01</td>\n",
       "      <td>16.110001</td>\n",
       "      <td>15.820000</td>\n",
       "      <td>15.980000</td>\n",
       "      <td>15.835930</td>\n",
       "      <td>161100</td>\n",
       "    </tr>\n",
       "    <tr>\n",
       "      <th>130</th>\n",
       "      <td>2019-12-12</td>\n",
       "      <td>15.94</td>\n",
       "      <td>16.350000</td>\n",
       "      <td>15.940000</td>\n",
       "      <td>16.260000</td>\n",
       "      <td>16.113405</td>\n",
       "      <td>513800</td>\n",
       "    </tr>\n",
       "    <tr>\n",
       "      <th>131</th>\n",
       "      <td>2019-12-13</td>\n",
       "      <td>16.24</td>\n",
       "      <td>16.400000</td>\n",
       "      <td>16.059999</td>\n",
       "      <td>16.299999</td>\n",
       "      <td>16.153044</td>\n",
       "      <td>275300</td>\n",
       "    </tr>\n",
       "  </tbody>\n",
       "</table>\n",
       "</div>"
      ],
      "text/plain": [
       "          Date   Open       High        Low      Close  Adj Close  Volume\n",
       "127 2019-12-09  16.09  16.209999  16.000000  16.120001  15.974669  327300\n",
       "128 2019-12-10  16.09  16.180000  15.880000  15.990000  15.845840  298900\n",
       "129 2019-12-11  16.01  16.110001  15.820000  15.980000  15.835930  161100\n",
       "130 2019-12-12  15.94  16.350000  15.940000  16.260000  16.113405  513800\n",
       "131 2019-12-13  16.24  16.400000  16.059999  16.299999  16.153044  275300"
      ]
     },
     "execution_count": 128,
     "metadata": {},
     "output_type": "execute_result"
    }
   ],
   "source": [
    "banc_begin = banc['Date'] > '2019-12-08'\n",
    "banc_six_months = banc[banc_begin]\n",
    "\n",
    "banc_six_months.head()"
   ]
  },
  {
   "cell_type": "code",
   "execution_count": 115,
   "metadata": {},
   "outputs": [
    {
     "data": {
      "text/plain": [
       "<matplotlib.axes._subplots.AxesSubplot at 0x1b3150e4a90>"
      ]
     },
     "execution_count": 115,
     "metadata": {},
     "output_type": "execute_result"
    },
    {
     "data": {
      "image/png": "[encoded data removed]",
      "text/plain": [
       "<Figure size 432x288 with 1 Axes>"
      ]
     },
     "metadata": {},
     "output_type": "display_data"
    }
   ],
   "source": [
    "banc.plot(x='Date', y='Close')"
   ]
  },
  {
   "cell_type": "code",
   "execution_count": 129,
   "metadata": {},
   "outputs": [
    {
     "data": {
      "text/plain": [
       "<matplotlib.axes._subplots.AxesSubplot at 0x1b3173337b8>"
      ]
     },
     "execution_count": 129,
     "metadata": {},
     "output_type": "execute_result"
    },
    {
     "data": {
      "image/png": "[encoded data removed]",
      "text/plain": [
       "<Figure size 432x288 with 1 Axes>"
      ]
     },
     "metadata": {},
     "output_type": "display_data"
    }
   ],
   "source": [
    "banc_six_months.plot(x='Date', y='Close')"
   ]
  },
  {
   "cell_type": "code",
   "execution_count": 145,
   "metadata": {},
   "outputs": [
    {
     "data": {
      "text/html": [
       "<div>\n",
       "<style scoped>\n",
       "    .dataframe tbody tr th:only-of-type {\n",
       "        vertical-align: middle;\n",
       "    }\n",
       "\n",
       "    .dataframe tbody tr th {\n",
       "        vertical-align: top;\n",
       "    }\n",
       "\n",
       "    .dataframe thead th {\n",
       "        text-align: right;\n",
       "    }\n",
       "</style>\n",
       "<table border=\"1\" class=\"dataframe\">\n",
       "  <thead>\n",
       "    <tr style=\"text-align: right;\">\n",
       "      <th></th>\n",
       "      <th>Date</th>\n",
       "      <th>Open</th>\n",
       "      <th>High</th>\n",
       "      <th>Low</th>\n",
       "      <th>Close</th>\n",
       "      <th>Adj Close</th>\n",
       "      <th>Volume</th>\n",
       "    </tr>\n",
       "  </thead>\n",
       "  <tbody>\n",
       "    <tr>\n",
       "      <th>127</th>\n",
       "      <td>2019-12-09</td>\n",
       "      <td>54.169998</td>\n",
       "      <td>54.549999</td>\n",
       "      <td>53.910000</td>\n",
       "      <td>53.919998</td>\n",
       "      <td>52.288342</td>\n",
       "      <td>15070800</td>\n",
       "    </tr>\n",
       "    <tr>\n",
       "      <th>128</th>\n",
       "      <td>2019-12-10</td>\n",
       "      <td>53.490002</td>\n",
       "      <td>53.869999</td>\n",
       "      <td>53.380001</td>\n",
       "      <td>53.689999</td>\n",
       "      <td>52.065304</td>\n",
       "      <td>15959100</td>\n",
       "    </tr>\n",
       "    <tr>\n",
       "      <th>129</th>\n",
       "      <td>2019-12-11</td>\n",
       "      <td>53.740002</td>\n",
       "      <td>53.980000</td>\n",
       "      <td>53.070000</td>\n",
       "      <td>53.169998</td>\n",
       "      <td>51.561039</td>\n",
       "      <td>16834200</td>\n",
       "    </tr>\n",
       "    <tr>\n",
       "      <th>130</th>\n",
       "      <td>2019-12-12</td>\n",
       "      <td>53.369999</td>\n",
       "      <td>54.549999</td>\n",
       "      <td>53.099998</td>\n",
       "      <td>54.360001</td>\n",
       "      <td>52.715031</td>\n",
       "      <td>19119500</td>\n",
       "    </tr>\n",
       "    <tr>\n",
       "      <th>131</th>\n",
       "      <td>2019-12-13</td>\n",
       "      <td>54.049999</td>\n",
       "      <td>54.419998</td>\n",
       "      <td>53.430000</td>\n",
       "      <td>53.790001</td>\n",
       "      <td>52.162277</td>\n",
       "      <td>19179300</td>\n",
       "    </tr>\n",
       "    <tr>\n",
       "      <th>132</th>\n",
       "      <td>2019-12-16</td>\n",
       "      <td>54.240002</td>\n",
       "      <td>54.560001</td>\n",
       "      <td>54.220001</td>\n",
       "      <td>54.220001</td>\n",
       "      <td>52.579266</td>\n",
       "      <td>19793500</td>\n",
       "    </tr>\n",
       "    <tr>\n",
       "      <th>133</th>\n",
       "      <td>2019-12-17</td>\n",
       "      <td>54.110001</td>\n",
       "      <td>54.509998</td>\n",
       "      <td>53.990002</td>\n",
       "      <td>54.340000</td>\n",
       "      <td>52.695633</td>\n",
       "      <td>16723400</td>\n",
       "    </tr>\n",
       "  </tbody>\n",
       "</table>\n",
       "</div>"
      ],
      "text/plain": [
       "          Date       Open       High        Low      Close  Adj Close  \\\n",
       "127 2019-12-09  54.169998  54.549999  53.910000  53.919998  52.288342   \n",
       "128 2019-12-10  53.490002  53.869999  53.380001  53.689999  52.065304   \n",
       "129 2019-12-11  53.740002  53.980000  53.070000  53.169998  51.561039   \n",
       "130 2019-12-12  53.369999  54.549999  53.099998  54.360001  52.715031   \n",
       "131 2019-12-13  54.049999  54.419998  53.430000  53.790001  52.162277   \n",
       "132 2019-12-16  54.240002  54.560001  54.220001  54.220001  52.579266   \n",
       "133 2019-12-17  54.110001  54.509998  53.990002  54.340000  52.695633   \n",
       "\n",
       "       Volume  \n",
       "127  15070800  \n",
       "128  15959100  \n",
       "129  16834200  \n",
       "130  19119500  \n",
       "131  19179300  \n",
       "132  19793500  \n",
       "133  16723400  "
      ]
     },
     "execution_count": 145,
     "metadata": {},
     "output_type": "execute_result"
    }
   ],
   "source": [
    "wells_dec = wfc['Date'] > '2019-12-08'\n",
    "wfc_six_months = wfc[wells_dec]\n",
    "\n",
    "wfc_six_months.head(7)"
   ]
  },
  {
   "cell_type": "code",
   "execution_count": 116,
   "metadata": {},
   "outputs": [
    {
     "data": {
      "text/plain": [
       "<matplotlib.axes._subplots.AxesSubplot at 0x1b315228c50>"
      ]
     },
     "execution_count": 116,
     "metadata": {},
     "output_type": "execute_result"
    },
    {
     "data": {
      "image/png": "[encoded data removed]",
      "text/plain": [
       "<Figure size 432x288 with 1 Axes>"
      ]
     },
     "metadata": {},
     "output_type": "display_data"
    }
   ],
   "source": [
    "wfc.plot(x='Date', y='Close')"
   ]
  },
  {
   "cell_type": "code",
   "execution_count": 146,
   "metadata": {},
   "outputs": [
    {
     "data": {
      "text/plain": [
       "<matplotlib.axes._subplots.AxesSubplot at 0x1b3180e6c50>"
      ]
     },
     "execution_count": 146,
     "metadata": {},
     "output_type": "execute_result"
    },
    {
     "data": {
      "image/png": "[encoded data removed]",
      "text/plain": [
       "<Figure size 432x288 with 1 Axes>"
      ]
     },
     "metadata": {},
     "output_type": "display_data"
    }
   ],
   "source": [
    "wfc_six_months.plot(x='Date', y='Close')"
   ]
  },
  {
   "cell_type": "code",
   "execution_count": 135,
   "metadata": {},
   "outputs": [
    {
     "data": {
      "text/html": [
       "<div>\n",
       "<style scoped>\n",
       "    .dataframe tbody tr th:only-of-type {\n",
       "        vertical-align: middle;\n",
       "    }\n",
       "\n",
       "    .dataframe tbody tr th {\n",
       "        vertical-align: top;\n",
       "    }\n",
       "\n",
       "    .dataframe thead th {\n",
       "        text-align: right;\n",
       "    }\n",
       "</style>\n",
       "<table border=\"1\" class=\"dataframe\">\n",
       "  <thead>\n",
       "    <tr style=\"text-align: right;\">\n",
       "      <th></th>\n",
       "      <th>Date</th>\n",
       "      <th>Open</th>\n",
       "      <th>High</th>\n",
       "      <th>Low</th>\n",
       "      <th>Close</th>\n",
       "      <th>Adj Close</th>\n",
       "      <th>Volume</th>\n",
       "    </tr>\n",
       "  </thead>\n",
       "  <tbody>\n",
       "    <tr>\n",
       "      <th>127</th>\n",
       "      <td>2019-12-09</td>\n",
       "      <td>86.309998</td>\n",
       "      <td>86.629997</td>\n",
       "      <td>85.959999</td>\n",
       "      <td>86.279999</td>\n",
       "      <td>85.397141</td>\n",
       "      <td>7164700</td>\n",
       "    </tr>\n",
       "    <tr>\n",
       "      <th>128</th>\n",
       "      <td>2019-12-10</td>\n",
       "      <td>86.500000</td>\n",
       "      <td>87.470001</td>\n",
       "      <td>85.910004</td>\n",
       "      <td>86.040001</td>\n",
       "      <td>85.159599</td>\n",
       "      <td>7944800</td>\n",
       "    </tr>\n",
       "    <tr>\n",
       "      <th>129</th>\n",
       "      <td>2019-12-11</td>\n",
       "      <td>86.260002</td>\n",
       "      <td>86.870003</td>\n",
       "      <td>85.849998</td>\n",
       "      <td>86.589996</td>\n",
       "      <td>85.703964</td>\n",
       "      <td>4921900</td>\n",
       "    </tr>\n",
       "    <tr>\n",
       "      <th>130</th>\n",
       "      <td>2019-12-12</td>\n",
       "      <td>88.000000</td>\n",
       "      <td>88.889999</td>\n",
       "      <td>87.540001</td>\n",
       "      <td>88.209999</td>\n",
       "      <td>87.307388</td>\n",
       "      <td>10282100</td>\n",
       "    </tr>\n",
       "    <tr>\n",
       "      <th>131</th>\n",
       "      <td>2019-12-13</td>\n",
       "      <td>88.019997</td>\n",
       "      <td>88.790001</td>\n",
       "      <td>87.580002</td>\n",
       "      <td>88.669998</td>\n",
       "      <td>87.762680</td>\n",
       "      <td>6714100</td>\n",
       "    </tr>\n",
       "    <tr>\n",
       "      <th>132</th>\n",
       "      <td>2019-12-16</td>\n",
       "      <td>89.139999</td>\n",
       "      <td>89.300003</td>\n",
       "      <td>88.430000</td>\n",
       "      <td>88.779999</td>\n",
       "      <td>87.871559</td>\n",
       "      <td>6705600</td>\n",
       "    </tr>\n",
       "    <tr>\n",
       "      <th>133</th>\n",
       "      <td>2019-12-17</td>\n",
       "      <td>88.870003</td>\n",
       "      <td>88.970001</td>\n",
       "      <td>87.470001</td>\n",
       "      <td>88.129997</td>\n",
       "      <td>87.228210</td>\n",
       "      <td>7296900</td>\n",
       "    </tr>\n",
       "  </tbody>\n",
       "</table>\n",
       "</div>"
      ],
      "text/plain": [
       "          Date       Open       High        Low      Close  Adj Close  \\\n",
       "127 2019-12-09  86.309998  86.629997  85.959999  86.279999  85.397141   \n",
       "128 2019-12-10  86.500000  87.470001  85.910004  86.040001  85.159599   \n",
       "129 2019-12-11  86.260002  86.870003  85.849998  86.589996  85.703964   \n",
       "130 2019-12-12  88.000000  88.889999  87.540001  88.209999  87.307388   \n",
       "131 2019-12-13  88.019997  88.790001  87.580002  88.669998  87.762680   \n",
       "132 2019-12-16  89.139999  89.300003  88.430000  88.779999  87.871559   \n",
       "133 2019-12-17  88.870003  88.970001  87.470001  88.129997  87.228210   \n",
       "\n",
       "       Volume  \n",
       "127   7164700  \n",
       "128   7944800  \n",
       "129   4921900  \n",
       "130  10282100  \n",
       "131   6714100  \n",
       "132   6705600  \n",
       "133   7296900  "
      ]
     },
     "execution_count": 135,
     "metadata": {},
     "output_type": "execute_result"
    }
   ],
   "source": [
    "sbux_begin = sbux['Date'] > '2019-12-08'\n",
    "sbux_six_months = sbux[sbux_begin]\n",
    "\n",
    "sbux_six_months.head(7)"
   ]
  },
  {
   "cell_type": "code",
   "execution_count": 117,
   "metadata": {},
   "outputs": [
    {
     "data": {
      "text/plain": [
       "<matplotlib.axes._subplots.AxesSubplot at 0x1b315287710>"
      ]
     },
     "execution_count": 117,
     "metadata": {},
     "output_type": "execute_result"
    },
    {
     "data": {
      "image/png": "[encoded data removed]",
      "text/plain": [
       "<Figure size 432x288 with 1 Axes>"
      ]
     },
     "metadata": {},
     "output_type": "display_data"
    }
   ],
   "source": [
    "sbux.plot(x='Date', y='Close')"
   ]
  },
  {
   "cell_type": "code",
   "execution_count": 140,
   "metadata": {},
   "outputs": [
    {
     "data": {
      "text/plain": [
       "<matplotlib.axes._subplots.AxesSubplot at 0x1b31808f780>"
      ]
     },
     "execution_count": 140,
     "metadata": {},
     "output_type": "execute_result"
    },
    {
     "data": {
      "image/png": "[encoded data removed]",
      "text/plain": [
       "<Figure size 432x288 with 1 Axes>"
      ]
     },
     "metadata": {},
     "output_type": "display_data"
    }
   ],
   "source": [
    "sbux_six_months.plot(x='Date', y='Close')"
   ]
  },
  {
   "cell_type": "code",
   "execution_count": 138,
   "metadata": {},
   "outputs": [
    {
     "data": {
      "text/html": [
       "<div>\n",
       "<style scoped>\n",
       "    .dataframe tbody tr th:only-of-type {\n",
       "        vertical-align: middle;\n",
       "    }\n",
       "\n",
       "    .dataframe tbody tr th {\n",
       "        vertical-align: top;\n",
       "    }\n",
       "\n",
       "    .dataframe thead th {\n",
       "        text-align: right;\n",
       "    }\n",
       "</style>\n",
       "<table border=\"1\" class=\"dataframe\">\n",
       "  <thead>\n",
       "    <tr style=\"text-align: right;\">\n",
       "      <th></th>\n",
       "      <th>Date</th>\n",
       "      <th>Open</th>\n",
       "      <th>High</th>\n",
       "      <th>Low</th>\n",
       "      <th>Close</th>\n",
       "      <th>Adj Close</th>\n",
       "      <th>Volume</th>\n",
       "    </tr>\n",
       "  </thead>\n",
       "  <tbody>\n",
       "    <tr>\n",
       "      <th>127</th>\n",
       "      <td>2019-12-09</td>\n",
       "      <td>49.529999</td>\n",
       "      <td>49.900002</td>\n",
       "      <td>49.430000</td>\n",
       "      <td>49.599998</td>\n",
       "      <td>48.846832</td>\n",
       "      <td>6382300</td>\n",
       "    </tr>\n",
       "    <tr>\n",
       "      <th>128</th>\n",
       "      <td>2019-12-10</td>\n",
       "      <td>49.529999</td>\n",
       "      <td>49.930000</td>\n",
       "      <td>49.270000</td>\n",
       "      <td>49.669998</td>\n",
       "      <td>48.915768</td>\n",
       "      <td>10009600</td>\n",
       "    </tr>\n",
       "    <tr>\n",
       "      <th>129</th>\n",
       "      <td>2019-12-11</td>\n",
       "      <td>49.660000</td>\n",
       "      <td>49.790001</td>\n",
       "      <td>49.419998</td>\n",
       "      <td>49.450001</td>\n",
       "      <td>48.699108</td>\n",
       "      <td>6296300</td>\n",
       "    </tr>\n",
       "    <tr>\n",
       "      <th>130</th>\n",
       "      <td>2019-12-12</td>\n",
       "      <td>49.650002</td>\n",
       "      <td>50.869999</td>\n",
       "      <td>49.470001</td>\n",
       "      <td>50.689999</td>\n",
       "      <td>49.920277</td>\n",
       "      <td>11553400</td>\n",
       "    </tr>\n",
       "    <tr>\n",
       "      <th>131</th>\n",
       "      <td>2019-12-13</td>\n",
       "      <td>50.740002</td>\n",
       "      <td>51.150002</td>\n",
       "      <td>50.139999</td>\n",
       "      <td>50.240002</td>\n",
       "      <td>49.477116</td>\n",
       "      <td>10191200</td>\n",
       "    </tr>\n",
       "  </tbody>\n",
       "</table>\n",
       "</div>"
      ],
      "text/plain": [
       "          Date       Open       High        Low      Close  Adj Close  \\\n",
       "127 2019-12-09  49.529999  49.900002  49.430000  49.599998  48.846832   \n",
       "128 2019-12-10  49.529999  49.930000  49.270000  49.669998  48.915768   \n",
       "129 2019-12-11  49.660000  49.790001  49.419998  49.450001  48.699108   \n",
       "130 2019-12-12  49.650002  50.869999  49.470001  50.689999  49.920277   \n",
       "131 2019-12-13  50.740002  51.150002  50.139999  50.240002  49.477116   \n",
       "\n",
       "       Volume  \n",
       "127   6382300  \n",
       "128  10009600  \n",
       "129   6296300  \n",
       "130  11553400  \n",
       "131  10191200  "
      ]
     },
     "execution_count": 138,
     "metadata": {},
     "output_type": "execute_result"
    }
   ],
   "source": [
    "ms_begin = ms['Date'] > '2019-12-08'\n",
    "ms_six_months = ms[ms_begin]\n",
    "\n",
    "ms_six_months.head()"
   ]
  },
  {
   "cell_type": "code",
   "execution_count": 118,
   "metadata": {},
   "outputs": [
    {
     "data": {
      "text/plain": [
       "<matplotlib.axes._subplots.AxesSubplot at 0x1b315274940>"
      ]
     },
     "execution_count": 118,
     "metadata": {},
     "output_type": "execute_result"
    },
    {
     "data": {
      "image/png": "[encoded data removed]",
      "text/plain": [
       "<Figure size 432x288 with 1 Axes>"
      ]
     },
     "metadata": {},
     "output_type": "display_data"
    }
   ],
   "source": [
    "ms.plot(x='Date', y='Close')"
   ]
  },
  {
   "cell_type": "code",
   "execution_count": 139,
   "metadata": {},
   "outputs": [
    {
     "data": {
      "text/plain": [
       "<matplotlib.axes._subplots.AxesSubplot at 0x1b314842cc0>"
      ]
     },
     "execution_count": 139,
     "metadata": {},
     "output_type": "execute_result"
    },
    {
     "data": {
      "image/png": "[encoded data removed]",
      "text/plain": [
       "<Figure size 432x288 with 1 Axes>"
      ]
     },
     "metadata": {},
     "output_type": "display_data"
    }
   ],
   "source": [
    "ms_six_months.plot(x='Date', y='Close')"
   ]
  },
  {
   "cell_type": "markdown",
   "metadata": {},
   "source": []
  },
  {
   "cell_type": "markdown",
   "metadata": {},
   "source": [
    "# Further Financial Analysis with Seaborn"
   ]
  },
  {
   "cell_type": "code",
   "execution_count": null,
   "metadata": {},
   "outputs": [],
   "source": []
  },
  {
   "cell_type": "code",
   "execution_count": null,
   "metadata": {},
   "outputs": [],
   "source": []
  },
  {
   "cell_type": "code",
   "execution_count": null,
   "metadata": {},
   "outputs": [],
   "source": []
  },
  {
   "cell_type": "code",
   "execution_count": null,
   "metadata": {},
   "outputs": [],
   "source": []
  },
  {
   "cell_type": "code",
   "execution_count": null,
   "metadata": {},
   "outputs": [],
   "source": []
  },
  {
   "cell_type": "code",
   "execution_count": null,
   "metadata": {},
   "outputs": [],
   "source": []
  },
  {
   "cell_type": "code",
   "execution_count": null,
   "metadata": {},
   "outputs": [],
   "source": []
  },
  {
   "cell_type": "code",
   "execution_count": null,
   "metadata": {},
   "outputs": [],
   "source": []
  },
  {
   "cell_type": "code",
   "execution_count": null,
   "metadata": {},
   "outputs": [],
   "source": []
  }
 ],
 "metadata": {
  "kernelspec": {
   "display_name": "Python 3",
   "language": "python",
   "name": "python3"
  },
  "language_info": {
   "codemirror_mode": {
    "name": "ipython",
    "version": 3
   },
   "file_extension": ".py",
   "mimetype": "text/x-python",
   "name": "python",
   "nbconvert_exporter": "python",
   "pygments_lexer": "ipython3",
   "version": "3.6.5"
  }
 },
 "nbformat": 4,
 "nbformat_minor": 2
}
